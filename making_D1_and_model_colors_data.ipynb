{
  "cells": [
    {
      "cell_type": "code",
      "execution_count": null,
      "metadata": {
        "id": "XcqiC6qIpPkV"
      },
      "outputs": [],
      "source": [
        "import pandas as pd\n",
        "import numpy as np\n",
        "import os\n",
        "import platform"
      ]
    },
    {
      "cell_type": "code",
      "execution_count": null,
      "metadata": {
        "id": "TzxwqowJ70bh",
        "colab": {
          "base_uri": "https://localhost:8080/",
          "height": 176
        },
        "outputId": "f58989dc-4ee6-4f3e-c33a-c4e246c64a4b"
      },
      "outputs": [
        {
          "output_type": "error",
          "ename": "NameError",
          "evalue": "name 'pd' is not defined",
          "traceback": [
            "\u001b[0;31m---------------------------------------------------------------------------\u001b[0m",
            "\u001b[0;31mNameError\u001b[0m                                 Traceback (most recent call last)",
            "\u001b[0;32m<ipython-input-1-558066c7b43d>\u001b[0m in \u001b[0;36m<cell line: 1>\u001b[0;34m()\u001b[0m\n\u001b[0;32m----> 1\u001b[0;31m \u001b[0mD0_data\u001b[0m \u001b[0;34m=\u001b[0m \u001b[0mpd\u001b[0m\u001b[0;34m.\u001b[0m\u001b[0mread_csv\u001b[0m\u001b[0;34m(\u001b[0m\u001b[0;34m\"/content/D0_colors_data (1).csv\"\u001b[0m\u001b[0;34m)\u001b[0m\u001b[0;34m\u001b[0m\u001b[0;34m\u001b[0m\u001b[0m\n\u001b[0m\u001b[1;32m      2\u001b[0m \u001b[0;32mif\u001b[0m \u001b[0;34m'Unnamed: 0'\u001b[0m \u001b[0;32min\u001b[0m \u001b[0mD0_data\u001b[0m\u001b[0;34m.\u001b[0m\u001b[0mcolumns\u001b[0m\u001b[0;34m:\u001b[0m\u001b[0;34m\u001b[0m\u001b[0;34m\u001b[0m\u001b[0m\n\u001b[1;32m      3\u001b[0m     \u001b[0mD0_data\u001b[0m \u001b[0;34m=\u001b[0m \u001b[0mD0_data\u001b[0m\u001b[0;34m.\u001b[0m\u001b[0mdrop\u001b[0m\u001b[0;34m(\u001b[0m\u001b[0;34m[\u001b[0m\u001b[0;34m'Unnamed: 0'\u001b[0m\u001b[0;34m]\u001b[0m\u001b[0;34m,\u001b[0m \u001b[0maxis\u001b[0m\u001b[0;34m=\u001b[0m\u001b[0;36m1\u001b[0m\u001b[0;34m)\u001b[0m\u001b[0;34m\u001b[0m\u001b[0;34m\u001b[0m\u001b[0m\n",
            "\u001b[0;31mNameError\u001b[0m: name 'pd' is not defined"
          ]
        }
      ],
      "source": [
        "D0_data = pd.read_csv(\"/content/D0_colors_data.csv\")\n",
        "if 'Unnamed: 0' in D0_data.columns:\n",
        "    D0_data = D0_data.drop(['Unnamed: 0'], axis=1)"
      ]
    },
    {
      "cell_type": "code",
      "source": [
        "D0_data.info()"
      ],
      "metadata": {
        "colab": {
          "base_uri": "https://localhost:8080/"
        },
        "id": "m90pDY9nkb8e",
        "outputId": "1a185bcd-a485-4d39-83c2-946552fb30ea"
      },
      "execution_count": null,
      "outputs": [
        {
          "output_type": "stream",
          "name": "stdout",
          "text": [
            "<class 'pandas.core.frame.DataFrame'>\n",
            "RangeIndex: 36 entries, 0 to 35\n",
            "Columns: 217 entries, shows to previous_slot_cume_reach_%_in_launch_week\n",
            "dtypes: float64(188), int64(14), object(15)\n",
            "memory usage: 61.2+ KB\n"
          ]
        }
      ]
    },
    {
      "cell_type": "markdown",
      "source": [
        "# System Variables"
      ],
      "metadata": {
        "id": "_W3TURidBS5b"
      }
    },
    {
      "cell_type": "code",
      "source": [
        "sytem_related_df = pd.DataFrame()\n",
        "sytem_related_df[\"shows\"] = D0_data[\"shows\"]"
      ],
      "metadata": {
        "id": "Qcx0hRJ66oCy"
      },
      "execution_count": null,
      "outputs": []
    },
    {
      "cell_type": "code",
      "source": [
        "sytem_related_df[\"Vertical Duplication\"] = D0_data[\"vertical_duplication_%\"].fillna(0)\n",
        "sytem_related_df[\"Previous show cume reach\"] = D0_data[\"previous_slot_cume_reach_%_in_launch_week\"].fillna(0)\n",
        "sytem_related_df[\"Overall Channel Pre 4 weeks Reach\"] = D0_data[\"over_allchannel_reach%_(pre_4_wks)\"].fillna(0)\n",
        "sytem_related_df[\"Slot_Pre 4 Wks Reach\"] = (D0_data[\"prev_4_wk_avg_cum_%\"]) * 100\n",
        "\n",
        "for i in range(len(sytem_related_df[\"Slot_Pre 4 Wks Reach\"])) :\n",
        "  if sytem_related_df[\"Slot_Pre 4 Wks Reach\"][i] >= 20 and sytem_related_df[\"Slot_Pre 4 Wks Reach\"][i] < 100 :\n",
        "    sytem_related_df[\"Slot_Pre 4 Wks Reach\"][i] = sytem_related_df[\"Slot_Pre 4 Wks Reach\"][i]/10\n",
        "\n",
        "  elif sytem_related_df[\"Slot_Pre 4 Wks Reach\"][i] >= 100 :\n",
        "    sytem_related_df[\"Slot_Pre 4 Wks Reach\"][i] = sytem_related_df[\"Slot_Pre 4 Wks Reach\"][i]/100\n",
        "  else:\n",
        "    sytem_related_df[\"Slot_Pre 4 Wks Reach\"][i] = sytem_related_df[\"Slot_Pre 4 Wks Reach\"][i]\n",
        "\n",
        "sytem_related_df[\"Lead out\"] = D0_data[\"launch_week_lead_out_–_for_the_slot_after_the_launch_slot_cumm_rch%\"].fillna(0)"
      ],
      "metadata": {
        "id": "4vyHMIDVAue9",
        "colab": {
          "base_uri": "https://localhost:8080/"
        },
        "outputId": "9294b7bc-bbe8-40d4-efa4-eca1c8abdb15"
      },
      "execution_count": null,
      "outputs": [
        {
          "output_type": "stream",
          "name": "stderr",
          "text": [
            "<ipython-input-45-d4e73bf58da6>:13: SettingWithCopyWarning: \n",
            "A value is trying to be set on a copy of a slice from a DataFrame\n",
            "\n",
            "See the caveats in the documentation: https://pandas.pydata.org/pandas-docs/stable/user_guide/indexing.html#returning-a-view-versus-a-copy\n",
            "  sytem_related_df[\"Slot_Pre 4 Wks Reach\"][i] = sytem_related_df[\"Slot_Pre 4 Wks Reach\"][i]\n",
            "<ipython-input-45-d4e73bf58da6>:13: SettingWithCopyWarning: \n",
            "A value is trying to be set on a copy of a slice from a DataFrame\n",
            "\n",
            "See the caveats in the documentation: https://pandas.pydata.org/pandas-docs/stable/user_guide/indexing.html#returning-a-view-versus-a-copy\n",
            "  sytem_related_df[\"Slot_Pre 4 Wks Reach\"][i] = sytem_related_df[\"Slot_Pre 4 Wks Reach\"][i]\n",
            "<ipython-input-45-d4e73bf58da6>:13: SettingWithCopyWarning: \n",
            "A value is trying to be set on a copy of a slice from a DataFrame\n",
            "\n",
            "See the caveats in the documentation: https://pandas.pydata.org/pandas-docs/stable/user_guide/indexing.html#returning-a-view-versus-a-copy\n",
            "  sytem_related_df[\"Slot_Pre 4 Wks Reach\"][i] = sytem_related_df[\"Slot_Pre 4 Wks Reach\"][i]\n",
            "<ipython-input-45-d4e73bf58da6>:13: SettingWithCopyWarning: \n",
            "A value is trying to be set on a copy of a slice from a DataFrame\n",
            "\n",
            "See the caveats in the documentation: https://pandas.pydata.org/pandas-docs/stable/user_guide/indexing.html#returning-a-view-versus-a-copy\n",
            "  sytem_related_df[\"Slot_Pre 4 Wks Reach\"][i] = sytem_related_df[\"Slot_Pre 4 Wks Reach\"][i]\n",
            "<ipython-input-45-d4e73bf58da6>:13: SettingWithCopyWarning: \n",
            "A value is trying to be set on a copy of a slice from a DataFrame\n",
            "\n",
            "See the caveats in the documentation: https://pandas.pydata.org/pandas-docs/stable/user_guide/indexing.html#returning-a-view-versus-a-copy\n",
            "  sytem_related_df[\"Slot_Pre 4 Wks Reach\"][i] = sytem_related_df[\"Slot_Pre 4 Wks Reach\"][i]\n",
            "<ipython-input-45-d4e73bf58da6>:13: SettingWithCopyWarning: \n",
            "A value is trying to be set on a copy of a slice from a DataFrame\n",
            "\n",
            "See the caveats in the documentation: https://pandas.pydata.org/pandas-docs/stable/user_guide/indexing.html#returning-a-view-versus-a-copy\n",
            "  sytem_related_df[\"Slot_Pre 4 Wks Reach\"][i] = sytem_related_df[\"Slot_Pre 4 Wks Reach\"][i]\n",
            "<ipython-input-45-d4e73bf58da6>:13: SettingWithCopyWarning: \n",
            "A value is trying to be set on a copy of a slice from a DataFrame\n",
            "\n",
            "See the caveats in the documentation: https://pandas.pydata.org/pandas-docs/stable/user_guide/indexing.html#returning-a-view-versus-a-copy\n",
            "  sytem_related_df[\"Slot_Pre 4 Wks Reach\"][i] = sytem_related_df[\"Slot_Pre 4 Wks Reach\"][i]\n",
            "<ipython-input-45-d4e73bf58da6>:13: SettingWithCopyWarning: \n",
            "A value is trying to be set on a copy of a slice from a DataFrame\n",
            "\n",
            "See the caveats in the documentation: https://pandas.pydata.org/pandas-docs/stable/user_guide/indexing.html#returning-a-view-versus-a-copy\n",
            "  sytem_related_df[\"Slot_Pre 4 Wks Reach\"][i] = sytem_related_df[\"Slot_Pre 4 Wks Reach\"][i]\n",
            "<ipython-input-45-d4e73bf58da6>:13: SettingWithCopyWarning: \n",
            "A value is trying to be set on a copy of a slice from a DataFrame\n",
            "\n",
            "See the caveats in the documentation: https://pandas.pydata.org/pandas-docs/stable/user_guide/indexing.html#returning-a-view-versus-a-copy\n",
            "  sytem_related_df[\"Slot_Pre 4 Wks Reach\"][i] = sytem_related_df[\"Slot_Pre 4 Wks Reach\"][i]\n",
            "<ipython-input-45-d4e73bf58da6>:13: SettingWithCopyWarning: \n",
            "A value is trying to be set on a copy of a slice from a DataFrame\n",
            "\n",
            "See the caveats in the documentation: https://pandas.pydata.org/pandas-docs/stable/user_guide/indexing.html#returning-a-view-versus-a-copy\n",
            "  sytem_related_df[\"Slot_Pre 4 Wks Reach\"][i] = sytem_related_df[\"Slot_Pre 4 Wks Reach\"][i]\n",
            "<ipython-input-45-d4e73bf58da6>:13: SettingWithCopyWarning: \n",
            "A value is trying to be set on a copy of a slice from a DataFrame\n",
            "\n",
            "See the caveats in the documentation: https://pandas.pydata.org/pandas-docs/stable/user_guide/indexing.html#returning-a-view-versus-a-copy\n",
            "  sytem_related_df[\"Slot_Pre 4 Wks Reach\"][i] = sytem_related_df[\"Slot_Pre 4 Wks Reach\"][i]\n",
            "<ipython-input-45-d4e73bf58da6>:13: SettingWithCopyWarning: \n",
            "A value is trying to be set on a copy of a slice from a DataFrame\n",
            "\n",
            "See the caveats in the documentation: https://pandas.pydata.org/pandas-docs/stable/user_guide/indexing.html#returning-a-view-versus-a-copy\n",
            "  sytem_related_df[\"Slot_Pre 4 Wks Reach\"][i] = sytem_related_df[\"Slot_Pre 4 Wks Reach\"][i]\n",
            "<ipython-input-45-d4e73bf58da6>:13: SettingWithCopyWarning: \n",
            "A value is trying to be set on a copy of a slice from a DataFrame\n",
            "\n",
            "See the caveats in the documentation: https://pandas.pydata.org/pandas-docs/stable/user_guide/indexing.html#returning-a-view-versus-a-copy\n",
            "  sytem_related_df[\"Slot_Pre 4 Wks Reach\"][i] = sytem_related_df[\"Slot_Pre 4 Wks Reach\"][i]\n",
            "<ipython-input-45-d4e73bf58da6>:13: SettingWithCopyWarning: \n",
            "A value is trying to be set on a copy of a slice from a DataFrame\n",
            "\n",
            "See the caveats in the documentation: https://pandas.pydata.org/pandas-docs/stable/user_guide/indexing.html#returning-a-view-versus-a-copy\n",
            "  sytem_related_df[\"Slot_Pre 4 Wks Reach\"][i] = sytem_related_df[\"Slot_Pre 4 Wks Reach\"][i]\n",
            "<ipython-input-45-d4e73bf58da6>:13: SettingWithCopyWarning: \n",
            "A value is trying to be set on a copy of a slice from a DataFrame\n",
            "\n",
            "See the caveats in the documentation: https://pandas.pydata.org/pandas-docs/stable/user_guide/indexing.html#returning-a-view-versus-a-copy\n",
            "  sytem_related_df[\"Slot_Pre 4 Wks Reach\"][i] = sytem_related_df[\"Slot_Pre 4 Wks Reach\"][i]\n",
            "<ipython-input-45-d4e73bf58da6>:13: SettingWithCopyWarning: \n",
            "A value is trying to be set on a copy of a slice from a DataFrame\n",
            "\n",
            "See the caveats in the documentation: https://pandas.pydata.org/pandas-docs/stable/user_guide/indexing.html#returning-a-view-versus-a-copy\n",
            "  sytem_related_df[\"Slot_Pre 4 Wks Reach\"][i] = sytem_related_df[\"Slot_Pre 4 Wks Reach\"][i]\n",
            "<ipython-input-45-d4e73bf58da6>:13: SettingWithCopyWarning: \n",
            "A value is trying to be set on a copy of a slice from a DataFrame\n",
            "\n",
            "See the caveats in the documentation: https://pandas.pydata.org/pandas-docs/stable/user_guide/indexing.html#returning-a-view-versus-a-copy\n",
            "  sytem_related_df[\"Slot_Pre 4 Wks Reach\"][i] = sytem_related_df[\"Slot_Pre 4 Wks Reach\"][i]\n",
            "<ipython-input-45-d4e73bf58da6>:13: SettingWithCopyWarning: \n",
            "A value is trying to be set on a copy of a slice from a DataFrame\n",
            "\n",
            "See the caveats in the documentation: https://pandas.pydata.org/pandas-docs/stable/user_guide/indexing.html#returning-a-view-versus-a-copy\n",
            "  sytem_related_df[\"Slot_Pre 4 Wks Reach\"][i] = sytem_related_df[\"Slot_Pre 4 Wks Reach\"][i]\n",
            "<ipython-input-45-d4e73bf58da6>:13: SettingWithCopyWarning: \n",
            "A value is trying to be set on a copy of a slice from a DataFrame\n",
            "\n",
            "See the caveats in the documentation: https://pandas.pydata.org/pandas-docs/stable/user_guide/indexing.html#returning-a-view-versus-a-copy\n",
            "  sytem_related_df[\"Slot_Pre 4 Wks Reach\"][i] = sytem_related_df[\"Slot_Pre 4 Wks Reach\"][i]\n",
            "<ipython-input-45-d4e73bf58da6>:13: SettingWithCopyWarning: \n",
            "A value is trying to be set on a copy of a slice from a DataFrame\n",
            "\n",
            "See the caveats in the documentation: https://pandas.pydata.org/pandas-docs/stable/user_guide/indexing.html#returning-a-view-versus-a-copy\n",
            "  sytem_related_df[\"Slot_Pre 4 Wks Reach\"][i] = sytem_related_df[\"Slot_Pre 4 Wks Reach\"][i]\n",
            "<ipython-input-45-d4e73bf58da6>:13: SettingWithCopyWarning: \n",
            "A value is trying to be set on a copy of a slice from a DataFrame\n",
            "\n",
            "See the caveats in the documentation: https://pandas.pydata.org/pandas-docs/stable/user_guide/indexing.html#returning-a-view-versus-a-copy\n",
            "  sytem_related_df[\"Slot_Pre 4 Wks Reach\"][i] = sytem_related_df[\"Slot_Pre 4 Wks Reach\"][i]\n",
            "<ipython-input-45-d4e73bf58da6>:13: SettingWithCopyWarning: \n",
            "A value is trying to be set on a copy of a slice from a DataFrame\n",
            "\n",
            "See the caveats in the documentation: https://pandas.pydata.org/pandas-docs/stable/user_guide/indexing.html#returning-a-view-versus-a-copy\n",
            "  sytem_related_df[\"Slot_Pre 4 Wks Reach\"][i] = sytem_related_df[\"Slot_Pre 4 Wks Reach\"][i]\n",
            "<ipython-input-45-d4e73bf58da6>:13: SettingWithCopyWarning: \n",
            "A value is trying to be set on a copy of a slice from a DataFrame\n",
            "\n",
            "See the caveats in the documentation: https://pandas.pydata.org/pandas-docs/stable/user_guide/indexing.html#returning-a-view-versus-a-copy\n",
            "  sytem_related_df[\"Slot_Pre 4 Wks Reach\"][i] = sytem_related_df[\"Slot_Pre 4 Wks Reach\"][i]\n",
            "<ipython-input-45-d4e73bf58da6>:13: SettingWithCopyWarning: \n",
            "A value is trying to be set on a copy of a slice from a DataFrame\n",
            "\n",
            "See the caveats in the documentation: https://pandas.pydata.org/pandas-docs/stable/user_guide/indexing.html#returning-a-view-versus-a-copy\n",
            "  sytem_related_df[\"Slot_Pre 4 Wks Reach\"][i] = sytem_related_df[\"Slot_Pre 4 Wks Reach\"][i]\n",
            "<ipython-input-45-d4e73bf58da6>:13: SettingWithCopyWarning: \n",
            "A value is trying to be set on a copy of a slice from a DataFrame\n",
            "\n",
            "See the caveats in the documentation: https://pandas.pydata.org/pandas-docs/stable/user_guide/indexing.html#returning-a-view-versus-a-copy\n",
            "  sytem_related_df[\"Slot_Pre 4 Wks Reach\"][i] = sytem_related_df[\"Slot_Pre 4 Wks Reach\"][i]\n",
            "<ipython-input-45-d4e73bf58da6>:13: SettingWithCopyWarning: \n",
            "A value is trying to be set on a copy of a slice from a DataFrame\n",
            "\n",
            "See the caveats in the documentation: https://pandas.pydata.org/pandas-docs/stable/user_guide/indexing.html#returning-a-view-versus-a-copy\n",
            "  sytem_related_df[\"Slot_Pre 4 Wks Reach\"][i] = sytem_related_df[\"Slot_Pre 4 Wks Reach\"][i]\n",
            "<ipython-input-45-d4e73bf58da6>:13: SettingWithCopyWarning: \n",
            "A value is trying to be set on a copy of a slice from a DataFrame\n",
            "\n",
            "See the caveats in the documentation: https://pandas.pydata.org/pandas-docs/stable/user_guide/indexing.html#returning-a-view-versus-a-copy\n",
            "  sytem_related_df[\"Slot_Pre 4 Wks Reach\"][i] = sytem_related_df[\"Slot_Pre 4 Wks Reach\"][i]\n",
            "<ipython-input-45-d4e73bf58da6>:13: SettingWithCopyWarning: \n",
            "A value is trying to be set on a copy of a slice from a DataFrame\n",
            "\n",
            "See the caveats in the documentation: https://pandas.pydata.org/pandas-docs/stable/user_guide/indexing.html#returning-a-view-versus-a-copy\n",
            "  sytem_related_df[\"Slot_Pre 4 Wks Reach\"][i] = sytem_related_df[\"Slot_Pre 4 Wks Reach\"][i]\n",
            "<ipython-input-45-d4e73bf58da6>:13: SettingWithCopyWarning: \n",
            "A value is trying to be set on a copy of a slice from a DataFrame\n",
            "\n",
            "See the caveats in the documentation: https://pandas.pydata.org/pandas-docs/stable/user_guide/indexing.html#returning-a-view-versus-a-copy\n",
            "  sytem_related_df[\"Slot_Pre 4 Wks Reach\"][i] = sytem_related_df[\"Slot_Pre 4 Wks Reach\"][i]\n",
            "<ipython-input-45-d4e73bf58da6>:13: SettingWithCopyWarning: \n",
            "A value is trying to be set on a copy of a slice from a DataFrame\n",
            "\n",
            "See the caveats in the documentation: https://pandas.pydata.org/pandas-docs/stable/user_guide/indexing.html#returning-a-view-versus-a-copy\n",
            "  sytem_related_df[\"Slot_Pre 4 Wks Reach\"][i] = sytem_related_df[\"Slot_Pre 4 Wks Reach\"][i]\n",
            "<ipython-input-45-d4e73bf58da6>:13: SettingWithCopyWarning: \n",
            "A value is trying to be set on a copy of a slice from a DataFrame\n",
            "\n",
            "See the caveats in the documentation: https://pandas.pydata.org/pandas-docs/stable/user_guide/indexing.html#returning-a-view-versus-a-copy\n",
            "  sytem_related_df[\"Slot_Pre 4 Wks Reach\"][i] = sytem_related_df[\"Slot_Pre 4 Wks Reach\"][i]\n",
            "<ipython-input-45-d4e73bf58da6>:13: SettingWithCopyWarning: \n",
            "A value is trying to be set on a copy of a slice from a DataFrame\n",
            "\n",
            "See the caveats in the documentation: https://pandas.pydata.org/pandas-docs/stable/user_guide/indexing.html#returning-a-view-versus-a-copy\n",
            "  sytem_related_df[\"Slot_Pre 4 Wks Reach\"][i] = sytem_related_df[\"Slot_Pre 4 Wks Reach\"][i]\n",
            "<ipython-input-45-d4e73bf58da6>:11: SettingWithCopyWarning: \n",
            "A value is trying to be set on a copy of a slice from a DataFrame\n",
            "\n",
            "See the caveats in the documentation: https://pandas.pydata.org/pandas-docs/stable/user_guide/indexing.html#returning-a-view-versus-a-copy\n",
            "  sytem_related_df[\"Slot_Pre 4 Wks Reach\"][i] = sytem_related_df[\"Slot_Pre 4 Wks Reach\"][i]/100\n",
            "<ipython-input-45-d4e73bf58da6>:13: SettingWithCopyWarning: \n",
            "A value is trying to be set on a copy of a slice from a DataFrame\n",
            "\n",
            "See the caveats in the documentation: https://pandas.pydata.org/pandas-docs/stable/user_guide/indexing.html#returning-a-view-versus-a-copy\n",
            "  sytem_related_df[\"Slot_Pre 4 Wks Reach\"][i] = sytem_related_df[\"Slot_Pre 4 Wks Reach\"][i]\n",
            "<ipython-input-45-d4e73bf58da6>:13: SettingWithCopyWarning: \n",
            "A value is trying to be set on a copy of a slice from a DataFrame\n",
            "\n",
            "See the caveats in the documentation: https://pandas.pydata.org/pandas-docs/stable/user_guide/indexing.html#returning-a-view-versus-a-copy\n",
            "  sytem_related_df[\"Slot_Pre 4 Wks Reach\"][i] = sytem_related_df[\"Slot_Pre 4 Wks Reach\"][i]\n",
            "<ipython-input-45-d4e73bf58da6>:13: SettingWithCopyWarning: \n",
            "A value is trying to be set on a copy of a slice from a DataFrame\n",
            "\n",
            "See the caveats in the documentation: https://pandas.pydata.org/pandas-docs/stable/user_guide/indexing.html#returning-a-view-versus-a-copy\n",
            "  sytem_related_df[\"Slot_Pre 4 Wks Reach\"][i] = sytem_related_df[\"Slot_Pre 4 Wks Reach\"][i]\n"
          ]
        }
      ]
    },
    {
      "cell_type": "markdown",
      "source": [
        "# Marketing Variables"
      ],
      "metadata": {
        "id": "xkV51Ftd1Spe"
      }
    },
    {
      "cell_type": "markdown",
      "source": [
        "**Marketing Through TV**"
      ],
      "metadata": {
        "id": "d5-ld3c_nKQQ"
      }
    },
    {
      "cell_type": "code",
      "source": [
        "## Grp's and Grp days\n",
        "\n",
        "# Grp's\n",
        "grps = ['shows', 'campaign_grps_(home)', 'campaign_grps_(nw)_paid_+_support', 'campaign_grps_(osn)']\n",
        "campaign_grps_home_nw_osn = D0_data[grps].fillna(0)\n",
        "\n",
        "##Days\n",
        "campaign_grp_days = pd.DataFrame()\n",
        "days_home = [\"#_of_weeks_(home)\"]\n",
        "campaign_grp_days[\"Num_of_days_home\"] = (D0_data[days_home]*7).astype(int)\n",
        "\n",
        "days_nw_osn = [\"#_of_days_(nw)__higher_of__support_vs_paid_considered\", '#_of_days_(osn)']\n",
        "campaign_grp_days[days_nw_osn]= D0_data[days_nw_osn].fillna(0)\n",
        "\n",
        "tv_marketing_data = pd.concat([campaign_grps_home_nw_osn, campaign_grp_days], axis = 1)\n",
        "desired_order_col = [\"shows\", \"campaign_grps_(home)\",  \"Num_of_days_home\", \"campaign_grps_(nw)_paid_+_support\", \"#_of_days_(nw)__higher_of__support_vs_paid_considered\", \"campaign_grps_(osn)\", \"#_of_days_(osn)\"]\n",
        "tv_marketing_df = tv_marketing_data[desired_order_col]"
      ],
      "metadata": {
        "id": "l5DwtZbTgAAM"
      },
      "execution_count": null,
      "outputs": []
    },
    {
      "cell_type": "markdown",
      "source": [
        "**Non TV Marketing**"
      ],
      "metadata": {
        "id": "1IrJkaaym_pJ"
      }
    },
    {
      "cell_type": "code",
      "source": [
        "non_tv_marketing_df = pd.DataFrame()\n",
        "non_tv_marketing_df[\"shows\"] = D0_data[\"shows\"]"
      ],
      "metadata": {
        "id": "i6_-iTYoj4bu"
      },
      "execution_count": null,
      "outputs": []
    },
    {
      "cell_type": "code",
      "source": [
        "## Print\n",
        "print = D0_data['print__display'].fillna(0)\n",
        "non_tv_marketing_df[\"Print\"] = print"
      ],
      "metadata": {
        "id": "diA5_9SYfvHA"
      },
      "execution_count": null,
      "outputs": []
    },
    {
      "cell_type": "code",
      "source": [
        "## dth\n",
        "dth_cols = [\"dth__dlc\",\t\"dth__others\",\t\"cable\"]\n",
        "dth_df = D0_data[dth_cols].fillna(0)\n",
        "dth = dth_df.sum(axis = 1)\n",
        "non_tv_marketing_df[\"DTH\"] = dth"
      ],
      "metadata": {
        "id": "TjjuMCijfvBF"
      },
      "execution_count": null,
      "outputs": []
    },
    {
      "cell_type": "code",
      "source": [
        "## Radio\n",
        "Radio = D0_data['radio'].fillna(0)\n",
        "non_tv_marketing_df[\"Radio\"] = Radio"
      ],
      "metadata": {
        "id": "1_hxkF4cfvDp"
      },
      "execution_count": null,
      "outputs": []
    },
    {
      "cell_type": "code",
      "source": [
        "## ooh\n",
        "ooh = D0_data.filter(like = \"ooh\").fillna(0).sum(axis = 1)\n",
        "non_tv_marketing_df[\"OOH\"] = ooh"
      ],
      "metadata": {
        "id": "fJQ61g1Ufu-x"
      },
      "execution_count": null,
      "outputs": []
    },
    {
      "cell_type": "code",
      "source": [
        "## OGA\n",
        "OGA = D0_data.filter(regex = \"onground|on_ground\").fillna(0).sum(axis = 1)\n",
        "non_tv_marketing_df[\"OGA\"] = OGA"
      ],
      "metadata": {
        "id": "2FKeigrNfu8J"
      },
      "execution_count": null,
      "outputs": []
    },
    {
      "cell_type": "code",
      "source": [
        "## all views\n",
        "all_views_cc = ['views(social video)', 'views(ott)', 'views(GDN)', 'views(sub_mediums)', 'views(oth_glance_zapr)']\n",
        "all_views = D0_data[all_views_cc].fillna(0).sum(axis = 1).astype(int)\n",
        "non_tv_marketing_df[\"All_Views(social video/ott/GDN/sub_mediums/oth_glance_zapr)\"] = all_views"
      ],
      "metadata": {
        "id": "na-Ys9BKfu5I"
      },
      "execution_count": null,
      "outputs": []
    },
    {
      "cell_type": "code",
      "source": [
        "## t_reach\n",
        "D0_data.loc[D0_data['shows'] == \"junooniyat\", \"total_reach\"] = 71487470\n",
        "D0_data.loc[D0_data['shows'] == \"neerja_ek_nayee_pehchaan\", \"total_reach\"] = 49102656\n",
        "own_reach = D0_data['total_reach'].fillna(np.mean(D0_data['total_reach'])).astype(\"float\")\n",
        "non_tv_marketing_df[\"Own_Media_Reach\"] = own_reach"
      ],
      "metadata": {
        "id": "0Xq77Wmwgz_5"
      },
      "execution_count": null,
      "outputs": []
    },
    {
      "cell_type": "code",
      "execution_count": null,
      "metadata": {
        "id": "skJhlRU370P7"
      },
      "outputs": [],
      "source": [
        "## pr_reach\n",
        "pr_reach = D0_data['total_reach_(from_prebuzz_to_launch)'].fillna(np.mean(D0_data['total_reach_(from_prebuzz_to_launch)']))\n",
        "non_tv_marketing_df[\"Pr_Reach\"] = pr_reach"
      ]
    },
    {
      "cell_type": "markdown",
      "source": [
        "**marketing_df**"
      ],
      "metadata": {
        "id": "_HGJzXwzpZND"
      }
    },
    {
      "cell_type": "code",
      "source": [
        "marketing_df = pd.merge(tv_marketing_df, non_tv_marketing_df, on=\"shows\")"
      ],
      "metadata": {
        "id": "YBT6cgXOpdl3"
      },
      "execution_count": null,
      "outputs": []
    },
    {
      "cell_type": "markdown",
      "source": [
        "# show Related Variables\n"
      ],
      "metadata": {
        "id": "2-yhx9Si2SSL"
      }
    },
    {
      "cell_type": "code",
      "source": [
        "show_related_df = pd.DataFrame()\n",
        "show_related_df['shows'] = D0_data['shows']"
      ],
      "metadata": {
        "id": "T07_G8M63qyf"
      },
      "execution_count": null,
      "outputs": []
    },
    {
      "cell_type": "code",
      "source": [
        "## Non fiction to fiction\n",
        "D0_data['replaced_genre'] = D0_data['replaced_genre'].fillna(\"No\")\n",
        "D0_data['nf_to_f'] = np.where(D0_data['replaced_genre'].str.lower().str.contains(\"reality\"), 1, 0)\n",
        "show_related_df = pd.concat([show_related_df, D0_data['nf_to_f']], axis=1)"
      ],
      "metadata": {
        "id": "zHf3k-fq6oIm"
      },
      "execution_count": null,
      "outputs": []
    },
    {
      "cell_type": "code",
      "source": [
        "## Leads Scale\n",
        "\n",
        "D0_data[\"prominent_leads_rating_scale\"] = D0_data[\"prominent_leads_rating_scale\"].fillna(0)\n",
        "D0_data['leads_scale'] = D0_data['prominent_leads_rating_scale'].apply(lambda x: '1' if x in [0, 1] else '2' if x in [3, 4] else '3' if x == 5 else None)\n",
        "leads_scale_dummies = pd.get_dummies(D0_data['leads_scale'], prefix='Leads Scale', prefix_sep = \" \").astype(int)\n",
        "show_related_df = pd.concat([show_related_df, leads_scale_dummies], axis=1)"
      ],
      "metadata": {
        "id": "Pocr_jjsf_3b"
      },
      "execution_count": null,
      "outputs": []
    },
    {
      "cell_type": "code",
      "source": [
        "## Genre\n",
        "genre_dummies = pd.get_dummies(D0_data['genre'], prefix='Genre', prefix_sep = \" \").astype(int)\n",
        "show_related_df = pd.concat([show_related_df, genre_dummies], axis=1)"
      ],
      "metadata": {
        "id": "Agp5kn0tf_p2"
      },
      "execution_count": null,
      "outputs": []
    },
    {
      "cell_type": "code",
      "source": [
        "## Launch Day\n",
        "D0_data['day_of_week_of_launch_episode'] = D0_data['day_of_week_of_launch_episode'].fillna(\"Mon\")\n",
        "launch_day_dummies = pd.get_dummies(D0_data['day_of_week_of_launch_episode'], prefix='Launchday', prefix_sep = \" \").astype(\"int\")\n",
        "show_related_df = pd.concat([show_related_df, launch_day_dummies], axis=1)"
      ],
      "metadata": {
        "id": "X8ljJgh_6oOc"
      },
      "execution_count": null,
      "outputs": []
    },
    {
      "cell_type": "markdown",
      "source": [
        "# Spends"
      ],
      "metadata": {
        "id": "Zk8oJuugV2iD"
      }
    },
    {
      "cell_type": "code",
      "source": [
        "## total spends\n",
        "\n",
        "spends_df = pd.DataFrame()\n",
        "spends_df[\"shows\"] = D0_data[\"shows\"]\n",
        "spends_col = [\"tv__nw_spends\", \"tv__osn_spends\", \"overall_digital__spends\"]\n",
        "spends_df[spends_col] = D0_data[spends_col].fillna(0)"
      ],
      "metadata": {
        "id": "u5i2ZM3-AuTP"
      },
      "execution_count": null,
      "outputs": []
    },
    {
      "cell_type": "markdown",
      "source": [
        "# Reach and target Variable"
      ],
      "metadata": {
        "id": "RUG223Aoc9TB"
      }
    },
    {
      "cell_type": "code",
      "source": [
        "## Reach\n",
        "\n",
        "reach_df = pd.DataFrame()\n",
        "reach_df[\"shows\"] = D0_data[\"shows\"]\n",
        "reach_col = [\"target_lw_avg_reach%\", \"actual_lw_avg_reach%\", \"actual_lw_cume_reach%\"]\n",
        "reach_df[reach_col] = D0_data[reach_col]"
      ],
      "metadata": {
        "id": "_C6WQ_fvAuNR"
      },
      "execution_count": null,
      "outputs": []
    },
    {
      "cell_type": "markdown",
      "source": [
        "# D1 Data"
      ],
      "metadata": {
        "id": "ytM2aQKCq0aE"
      }
    },
    {
      "cell_type": "code",
      "source": [
        "d1_dfs = [sytem_related_df, marketing_df, show_related_df, spends_df, reach_df]\n",
        "D1_temp = pd.DataFrame({\"shows\": D0_data[\"shows\"]})\n",
        "for i in d1_dfs :\n",
        "  D1_temp = pd.merge(D1_temp, i, on=\"shows\")"
      ],
      "metadata": {
        "id": "To4aZXfKAuKN"
      },
      "execution_count": null,
      "outputs": []
    },
    {
      "cell_type": "code",
      "source": [
        "D1_temp1 = D1_temp.copy()"
      ],
      "metadata": {
        "id": "84mfc8ydJa_2"
      },
      "execution_count": null,
      "outputs": []
    },
    {
      "cell_type": "code",
      "source": [
        "D1_temp1.rename(columns = {\"campaign_grps_(home)\" : \"Home GRPs\", \"Num_of_days_home\":\"Home Promo Days\", \"campaign_grps_(nw)_paid_+_support\":\"Network GRPs\",\n",
        "                         '#_of_days_(nw)__higher_of__support_vs_paid_considered':\"Network Promo Days\", \"campaign_grps_(osn)\" :\"Outside Network GRPs\", \"#_of_days_(osn)\" : \"Outside Network Promo Days\",\n",
        "                          \"tv__nw_spends\": \"tv Network Spends\", \"tv__osn_spends\" : \"Outside Network Spends\", \"overall_digital__spends\" : \"Overall Digital Spends\", \"target_lw_avg_reach%\" : \"target(lw) avg Reach\", \"actual_lw_avg_reach%\":\"actual(lw) avg Reach\", \"actual_lw_cume_reach%\" : \"actual cume reach\"}, inplace = True)"
      ],
      "metadata": {
        "id": "ATgqPsRuGFNN"
      },
      "execution_count": null,
      "outputs": []
    },
    {
      "cell_type": "code",
      "source": [
        "columns_for_d1 = ['shows', 'Vertical Duplication', 'Previous show cume reach',\n",
        "       'Overall Channel Pre 4 weeks Reach', 'Slot_Pre 4 Wks Reach', 'Lead out',\n",
        "       'Home GRPs', 'Home Promo Days', 'Network GRPs', 'Network Promo Days',\n",
        "       'Outside Network GRPs', 'Outside Network Promo Days', 'Print', 'DTH',\n",
        "       'Radio', 'OOH', 'OGA',\n",
        "       'All_Views(social video/ott/GDN/sub_mediums/oth_glance_zapr)',\n",
        "       'Own_Media_Reach', 'Pr_Reach', 'nf_to_f', 'Leads Scale 1',\n",
        "       'Leads Scale 2', 'Leads Scale 3', 'Genre Family Drama',\n",
        "       'Genre Mytho / Historical / Fantasy', 'Genre Romance',\n",
        "       'Genre Social Issue', 'Launchday Mon', 'Launchday Sat', 'Launchday Sun',\n",
        "       'Launchday Tue', 'Launchday Wed', 'actual cume reach']\n",
        "\n",
        "D1 = D1_temp1[columns_for_d1]\n",
        "D1[\"Non_tv_marketing\"] = D1[\"Print\"] + D1[\"DTH\"] + D1[\"Radio\"] + D1[\"OOH\"] + D1[\"OGA\"]\n",
        "D1[\"GRPs\"] = D1[\"Home GRPs\"] + D1[\"Network GRPs\"] + D1[\"Outside Network GRPs\"]\n",
        "\n",
        "def apply_formula(value):\n",
        "    return np.log(value+1)\n",
        "\n",
        "columns_to_transform = ['GRPs', 'Home Promo Days',  'Home GRPs',  'Network GRPs',  'Outside Network GRPs', 'Print', 'DTH', 'Radio', 'OOH', 'OGA',\n",
        "                        'Non_tv_marketing', 'All_Views(social video/ott/GDN/sub_mediums/oth_glance_zapr)']\n",
        "\n",
        "for column in columns_to_transform:\n",
        "    D1[column] = D1[column].apply(apply_formula)\n",
        "\n",
        "D1 = D1[[col for col in D1.columns if col != \"actual cume reach\"] + [\"actual cume reach\"]]\n",
        "\n",
        "D1.to_csv(\"Data_for_model.csv\", index = False)"
      ],
      "metadata": {
        "colab": {
          "base_uri": "https://localhost:8080/"
        },
        "id": "pp-MskWAzV_F",
        "outputId": "24932f18-bbdb-4c02-b7c2-b008530cedd5"
      },
      "execution_count": null,
      "outputs": [
        {
          "output_type": "stream",
          "name": "stderr",
          "text": [
            "<ipython-input-67-56409ad2a5d8>:14: SettingWithCopyWarning: \n",
            "A value is trying to be set on a copy of a slice from a DataFrame.\n",
            "Try using .loc[row_indexer,col_indexer] = value instead\n",
            "\n",
            "See the caveats in the documentation: https://pandas.pydata.org/pandas-docs/stable/user_guide/indexing.html#returning-a-view-versus-a-copy\n",
            "  D1[\"Non_tv_marketing\"] = D1[\"Print\"] + D1[\"DTH\"] + D1[\"Radio\"] + D1[\"OOH\"] + D1[\"OGA\"]\n",
            "<ipython-input-67-56409ad2a5d8>:15: SettingWithCopyWarning: \n",
            "A value is trying to be set on a copy of a slice from a DataFrame.\n",
            "Try using .loc[row_indexer,col_indexer] = value instead\n",
            "\n",
            "See the caveats in the documentation: https://pandas.pydata.org/pandas-docs/stable/user_guide/indexing.html#returning-a-view-versus-a-copy\n",
            "  D1[\"GRPs\"] = D1[\"Home GRPs\"] + D1[\"Network GRPs\"] + D1[\"Outside Network GRPs\"]\n",
            "<ipython-input-67-56409ad2a5d8>:24: SettingWithCopyWarning: \n",
            "A value is trying to be set on a copy of a slice from a DataFrame.\n",
            "Try using .loc[row_indexer,col_indexer] = value instead\n",
            "\n",
            "See the caveats in the documentation: https://pandas.pydata.org/pandas-docs/stable/user_guide/indexing.html#returning-a-view-versus-a-copy\n",
            "  D1[column] = D1[column].apply(apply_formula)\n",
            "<ipython-input-67-56409ad2a5d8>:24: SettingWithCopyWarning: \n",
            "A value is trying to be set on a copy of a slice from a DataFrame.\n",
            "Try using .loc[row_indexer,col_indexer] = value instead\n",
            "\n",
            "See the caveats in the documentation: https://pandas.pydata.org/pandas-docs/stable/user_guide/indexing.html#returning-a-view-versus-a-copy\n",
            "  D1[column] = D1[column].apply(apply_formula)\n",
            "<ipython-input-67-56409ad2a5d8>:24: SettingWithCopyWarning: \n",
            "A value is trying to be set on a copy of a slice from a DataFrame.\n",
            "Try using .loc[row_indexer,col_indexer] = value instead\n",
            "\n",
            "See the caveats in the documentation: https://pandas.pydata.org/pandas-docs/stable/user_guide/indexing.html#returning-a-view-versus-a-copy\n",
            "  D1[column] = D1[column].apply(apply_formula)\n",
            "<ipython-input-67-56409ad2a5d8>:24: SettingWithCopyWarning: \n",
            "A value is trying to be set on a copy of a slice from a DataFrame.\n",
            "Try using .loc[row_indexer,col_indexer] = value instead\n",
            "\n",
            "See the caveats in the documentation: https://pandas.pydata.org/pandas-docs/stable/user_guide/indexing.html#returning-a-view-versus-a-copy\n",
            "  D1[column] = D1[column].apply(apply_formula)\n",
            "<ipython-input-67-56409ad2a5d8>:24: SettingWithCopyWarning: \n",
            "A value is trying to be set on a copy of a slice from a DataFrame.\n",
            "Try using .loc[row_indexer,col_indexer] = value instead\n",
            "\n",
            "See the caveats in the documentation: https://pandas.pydata.org/pandas-docs/stable/user_guide/indexing.html#returning-a-view-versus-a-copy\n",
            "  D1[column] = D1[column].apply(apply_formula)\n",
            "<ipython-input-67-56409ad2a5d8>:24: SettingWithCopyWarning: \n",
            "A value is trying to be set on a copy of a slice from a DataFrame.\n",
            "Try using .loc[row_indexer,col_indexer] = value instead\n",
            "\n",
            "See the caveats in the documentation: https://pandas.pydata.org/pandas-docs/stable/user_guide/indexing.html#returning-a-view-versus-a-copy\n",
            "  D1[column] = D1[column].apply(apply_formula)\n",
            "<ipython-input-67-56409ad2a5d8>:24: SettingWithCopyWarning: \n",
            "A value is trying to be set on a copy of a slice from a DataFrame.\n",
            "Try using .loc[row_indexer,col_indexer] = value instead\n",
            "\n",
            "See the caveats in the documentation: https://pandas.pydata.org/pandas-docs/stable/user_guide/indexing.html#returning-a-view-versus-a-copy\n",
            "  D1[column] = D1[column].apply(apply_formula)\n",
            "<ipython-input-67-56409ad2a5d8>:24: SettingWithCopyWarning: \n",
            "A value is trying to be set on a copy of a slice from a DataFrame.\n",
            "Try using .loc[row_indexer,col_indexer] = value instead\n",
            "\n",
            "See the caveats in the documentation: https://pandas.pydata.org/pandas-docs/stable/user_guide/indexing.html#returning-a-view-versus-a-copy\n",
            "  D1[column] = D1[column].apply(apply_formula)\n",
            "<ipython-input-67-56409ad2a5d8>:24: SettingWithCopyWarning: \n",
            "A value is trying to be set on a copy of a slice from a DataFrame.\n",
            "Try using .loc[row_indexer,col_indexer] = value instead\n",
            "\n",
            "See the caveats in the documentation: https://pandas.pydata.org/pandas-docs/stable/user_guide/indexing.html#returning-a-view-versus-a-copy\n",
            "  D1[column] = D1[column].apply(apply_formula)\n",
            "<ipython-input-67-56409ad2a5d8>:24: SettingWithCopyWarning: \n",
            "A value is trying to be set on a copy of a slice from a DataFrame.\n",
            "Try using .loc[row_indexer,col_indexer] = value instead\n",
            "\n",
            "See the caveats in the documentation: https://pandas.pydata.org/pandas-docs/stable/user_guide/indexing.html#returning-a-view-versus-a-copy\n",
            "  D1[column] = D1[column].apply(apply_formula)\n",
            "<ipython-input-67-56409ad2a5d8>:24: SettingWithCopyWarning: \n",
            "A value is trying to be set on a copy of a slice from a DataFrame.\n",
            "Try using .loc[row_indexer,col_indexer] = value instead\n",
            "\n",
            "See the caveats in the documentation: https://pandas.pydata.org/pandas-docs/stable/user_guide/indexing.html#returning-a-view-versus-a-copy\n",
            "  D1[column] = D1[column].apply(apply_formula)\n",
            "<ipython-input-67-56409ad2a5d8>:24: SettingWithCopyWarning: \n",
            "A value is trying to be set on a copy of a slice from a DataFrame.\n",
            "Try using .loc[row_indexer,col_indexer] = value instead\n",
            "\n",
            "See the caveats in the documentation: https://pandas.pydata.org/pandas-docs/stable/user_guide/indexing.html#returning-a-view-versus-a-copy\n",
            "  D1[column] = D1[column].apply(apply_formula)\n"
          ]
        }
      ]
    },
    {
      "cell_type": "markdown",
      "source": [
        "# Data For Scenario Planner"
      ],
      "metadata": {
        "id": "gCCuF7uLpK4p"
      }
    },
    {
      "cell_type": "code",
      "source": [
        "data_for_scenario_planner  = D1_temp1.T.reset_index(drop=True)\n",
        "data_for_scenario_planner.columns = data_for_scenario_planner.iloc[0]\n",
        "data_for_scenario_planner[\"Features\"] = list(D1_temp1.columns)\n",
        "data_for_scenario_planner = data_for_scenario_planner[[\"Features\"] + [col for col in data_for_scenario_planner.columns if col != \"Features\"]].reset_index(drop = True)\n",
        "data_for_scenario_planner.drop(data_for_scenario_planner.index[0], inplace=True)"
      ],
      "metadata": {
        "id": "baDF_5tGhSx7"
      },
      "execution_count": null,
      "outputs": []
    },
    {
      "cell_type": "code",
      "source": [
        "mean = {}\n",
        "std = {}\n",
        "for col in D1_temp1.columns:\n",
        "  if D1_temp1[col].dtype == \"float\" or D1_temp1[col].dtype == \"int\" :\n",
        "    mean[col]= D1_temp1[col].mean()\n",
        "    std[col] = D1_temp1[col].std()\n",
        "  else :\n",
        "    continue\n",
        "mean_df = pd.DataFrame(mean.items(), columns = [\"Features\", \"Mean\"])\n",
        "std_df = pd.DataFrame(std.items(), columns = [\"Features\", \"STD\"])"
      ],
      "metadata": {
        "id": "odGfiept3QIb"
      },
      "execution_count": null,
      "outputs": []
    },
    {
      "cell_type": "code",
      "source": [
        "data_for_scenario_planner = pd.merge(data_for_scenario_planner, mean_df, on=\"Features\")\n",
        "data_for_scenario_planner = pd.merge(data_for_scenario_planner, std_df, on=\"Features\")\n",
        "data_for_scenario_planner = data_for_scenario_planner[[\"Features\", \"STD\", \"Mean\"] + [col for col in data_for_scenario_planner.columns if col not in [\"Features\", \"STD\", \"Mean\"]]].reset_index(drop = True)"
      ],
      "metadata": {
        "id": "fY9FjkGHtYRM"
      },
      "execution_count": null,
      "outputs": []
    },
    {
      "cell_type": "code",
      "source": [
        "from openpyxl import load_workbook"
      ],
      "metadata": {
        "id": "MTNmYhe_MAvg"
      },
      "execution_count": null,
      "outputs": []
    },
    {
      "cell_type": "code",
      "source": [
        "file_path = 'Data For Scenario Planner.xlsx'\n",
        "\n",
        "with pd.ExcelWriter(file_path, engine='openpyxl') as writer:\n",
        "    data_for_scenario_planner.to_excel(writer, sheet_name='Sheet1', index=False)"
      ],
      "metadata": {
        "id": "UFyo_BnRopb8"
      },
      "execution_count": null,
      "outputs": []
    },
    {
      "cell_type": "code",
      "source": [],
      "metadata": {
        "id": "9BnswR02opZg"
      },
      "execution_count": null,
      "outputs": []
    },
    {
      "cell_type": "code",
      "source": [
        "# numerical_columns = D0_data.select_dtypes(include=[np.number]).columns\n",
        "# D0_data[numerical_columns] = D0_data[numerical_columns].fillna(0)"
      ],
      "metadata": {
        "id": "NhFwIioQkEma"
      },
      "execution_count": null,
      "outputs": []
    },
    {
      "cell_type": "code",
      "source": [],
      "metadata": {
        "id": "6FR6ywC7opW3"
      },
      "execution_count": null,
      "outputs": []
    },
    {
      "cell_type": "code",
      "source": [],
      "metadata": {
        "id": "7JpyVr5lopTh"
      },
      "execution_count": null,
      "outputs": []
    }
  ],
  "metadata": {
    "colab": {
      "provenance": []
    },
    "kernelspec": {
      "display_name": "Python 3",
      "name": "python3"
    },
    "language_info": {
      "name": "python"
    }
  },
  "nbformat": 4,
  "nbformat_minor": 0
}